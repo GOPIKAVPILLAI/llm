{
 "cells": [
  {
   "cell_type": "code",
   "execution_count": 1,
   "id": "6f425ef7-7eec-4277-958b-8ad931e91e25",
   "metadata": {},
   "outputs": [],
   "source": [
    "from dotenv import load_dotenv\n",
    "from IPython.display import Markdown, display, update_display\n",
    "from openai import OpenAI\n",
    "import ollama"
   ]
  },
  {
   "cell_type": "code",
   "execution_count": 2,
   "id": "cb17a5fc-0949-44dc-8f9b-7bc56968785d",
   "metadata": {},
   "outputs": [],
   "source": [
    "\n",
    "MODEL_GPT = 'gpt-4o-mini'\n",
    "MODEL_LLAMA = 'llama3.2'"
   ]
  },
  {
   "cell_type": "code",
   "execution_count": 3,
   "id": "bf426e27-97f6-4b9f-ab0a-f252361b9dee",
   "metadata": {},
   "outputs": [],
   "source": [
    "load_dotenv()\n",
    "openai = OpenAI()\n"
   ]
  },
  {
   "cell_type": "code",
   "execution_count": 20,
   "id": "c84dc705-8be9-4034-a365-634c01581f33",
   "metadata": {},
   "outputs": [
    {
     "name": "stdin",
     "output_type": "stream",
     "text": [
      "Type the Question for Technical Tutor :  l=[i for i in range(1,11)]\n"
     ]
    }
   ],
   "source": [
    "ques=input(\"Type the Question for Technical Tutor : \")\n",
    "question = f\"\"\"\n",
    "Please explain in malayalam what this code does and why:\n",
    "{ques}\n",
    "\"\"\""
   ]
  },
  {
   "cell_type": "code",
   "execution_count": 21,
   "id": "b56ead69-57f0-4630-87ab-9165cccb9269",
   "metadata": {},
   "outputs": [],
   "source": [
    "\n",
    "system_prompt = \"You are a helpful technical tutor who answers questions in malayalam about python code, software engineering, data science and LLMs\"\n",
    "user_prompt = \"Please give a detailed explanation in malayalam to the following question: \" + question"
   ]
  },
  {
   "cell_type": "code",
   "execution_count": 22,
   "id": "9aced3c1-4eb1-4ace-843a-66a33ee34e7b",
   "metadata": {},
   "outputs": [],
   "source": [
    "messages = [\n",
    "    {\"role\": \"system\", \"content\": system_prompt},\n",
    "    {\"role\": \"user\", \"content\": user_prompt}\n",
    "]"
   ]
  },
  {
   "cell_type": "code",
   "execution_count": 23,
   "id": "79d4ba06-770f-4ae0-8e5d-2ddb8bfa9be0",
   "metadata": {},
   "outputs": [
    {
     "data": {
      "text/markdown": [
       "ഈ കോഡ് ഒരു ലിസ്റ്റ് നിർമ്മിക്കുന്നു, അതിന്റെ വിശദമായ വിവരണം താഴെ കൊടുക്കുകയാണ്:\n",
       "\n",
       "### കോഡ്:\n",
       "python\n",
       "l = [i for i in range(1, 11)]\n",
       "\n",
       "\n",
       "### വിശദീകരണം:\n",
       "\n",
       "1. **Range ഫംഗ്ഷൻ**:\n",
       "   - `range(1, 11)` ഒരു സീക്‌വൻസ് (അനുക്രമം) നിർമ്മിക്കും. 1 മുതൽ 10 വരെയുടെ സൂചകന്മാരെന്നമ്മേലാണ് ഇത് നൽകുന്നത്. എങ്കിൽ, നിങ്ങൾക്ക് ലഭിക്കുന്നത് 1, 2, 3, 4, 5, 6, 7, 8, 9, 10 എന്നിങ്ങനെ 10 എണ്ണം ആണ്.\n",
       "   - `range` ഫംഗ്ഷൻ 11-നെ ഉൾക്കൊള്ളുന്നില്ലെന്ന് ശ്രദ്ധിക്കുക; അതായത് 10 അവസാന നമ്പരാണ്.\n",
       "\n",
       "2. **List Comprehension**:\n",
       "   - `[i for i in range(1, 11)]` ഈ ഭാഗം ഒരു ലിസ്റ്റ് നിർമ്മിക്കാൻ `list comprehension`ക്കൊൺ ആണ്. \n",
       "   - ഇതിലൂടെ, `range(1, 11)` നൽകുന്ന ഓരോ നമ്പറിനും, നീംഗൾ 'i' എന്ന സിഗ്ഹ്ഹ്ത ഘടകമായി ഉപയോഗിക്കുന്നു. \n",
       "   - അതായത്, 1 മുതൽ 10 വരെ എല്ലാ നമ്പറുകളും വീതിയിലും ലിസ്റ്റിൽ ഉൾക്കൊള്ളുന്നു.\n",
       "\n",
       "3. **അവസാനം**:\n",
       "   - ഈ ലിസ്റ്റിനെ `l` എന്ന വ്യാസ്ഥിതിക്ക് (variable) അനുവദിക്കുന്നു.\n",
       "   - അതിനാൽ `l` ലിസ്റ്റില്‍ 1, 2, 3, 4, 5, 6, 7, 8, 9, 10 എന്ന നമ്പറുകൾ അടങ്ങിയിരിക്കും.\n",
       "\n",
       "### ഉദാഹരണം:\n",
       "ആവശ്യം വരുമ്പോൾ, നിങ്ങൾ `print(l)` എന്ന് വിചാരിച്ചാൽ, നിങ്ങൾക്ക് പ്രവർത്തിക്കുന്ന കൂട്ടത്തിലെ ഔട്ട്‌പുട് താഴെ കാണാം:\n",
       "\n",
       "[1, 2, 3, 4, 5, 6, 7, 8, 9, 10]\n",
       "\n",
       "\n",
       "### സാരാംശം:\n",
       "ഈ കുപം (code) 1 മുതൽ 10 വരെ ഒരു ലിസ്റ്റ് നിർമ്മിച്ച് അതിനെ `l` എന്ന വ്യാസ്ഥിതിയില്‍ സൂക്ഷിക്കുന്നു. Python ൽ ലിസ്റ്റ് comprehension ഉപയോഗിച്ച് കോഡ് ലളിതവും സക്ഷമവുമായ രീതിയിൽ എഴുതിയിരിക്കുന്നു."
      ],
      "text/plain": [
       "<IPython.core.display.Markdown object>"
      ]
     },
     "metadata": {},
     "output_type": "display_data"
    }
   ],
   "source": [
    "# Get gpt-4o-mini to answer, with streaming\n",
    "\n",
    "stream = openai.chat.completions.create(model=MODEL_GPT, messages=messages,stream=True)\n",
    "    \n",
    "response = \"\"\n",
    "display_handle = display(Markdown(\"\"), display_id=True)\n",
    "for chunk in stream:\n",
    "    response += chunk.choices[0].delta.content or ''\n",
    "    response = response.replace(\"```\",\"\").replace(\"markdown\", \"\")\n",
    "    update_display(Markdown(response), display_id=display_handle.display_id)"
   ]
  },
  {
   "cell_type": "code",
   "execution_count": 24,
   "id": "681c83d3-4705-4a0d-ac76-267d95eb1829",
   "metadata": {},
   "outputs": [
    {
     "data": {
      "text/markdown": [
       "പ്രശ്‌നത്തിനുള്ള കോഡിന്റെ വിശ്ലേഷണം: \n",
       "\n",
       "```\n",
       "l=[i for i in range(1,11)]\n",
       "```\n",
       "\n",
       "അർത്ഥം:\n",
       "ഈ കോഡ് `range` ഫീച്ചർ‌യിൽ നിന്നുള്ള എണ്ണങ്ങളെ വെറും അക്കാല് പരിഹാരമായി ലഭിച്ച ഒരു സംഗ്രഹം ആണ്‌. \n",
       "\n",
       "ഇത് `range(1,11)` എന്ന വ്യക്തീകരണം ഉപയോഗിച്ചാണ്‌, അത് 1 മുതൽ 11 വരെയുള്ള എണ്ണങ്ങളെ ഇടമൊക്കെ ഉൾപ്പെടുത്തുന്നു. \n",
       "\n",
       "അപ്പോലോയ്‌സ് ഇന്റർഫേസ്‌ എന്ന വിഷയത്തിൽ ഈ കോഡ് പ്രാഥമികം ഉപയോഗിച്ചുള്ള ഒരു അദ്ഭുതമാണ്‌. \n",
       "\n",
       "എന്നാൽ, ഈ കോഡ് പ്രധാനമായും `list()` ഫംഗ്‌ഷനെ ഉപയോഗിച്ച് ഒരു ലിസ്റ്റ് സൃഷ്‌ടിക്കുന്നതിന്‌ ഉപയോഗിച്ച് ഇത് അവരെ പാലിസ്‌ട്രീക്ക്‌ഷണൽ മുദ്രയിട്ടുള്ള ഒരു അല്ല. \n",
       "\n",
       "എന്നാൽ, ഈ സംഗ്രഹത്തിന്‌ മറ്റൊരു പേര്‌ഖ്യയാണ്‌. \n",
       "\n",
       "ലളിതമായ ഒരു അഭിപ്രായമാണ്‌, \"എന്റെ കട്ടും വാചകത്തിൽ അസ്ഥിരമായ ഒരു ലിസ്‌റ്റ് ആക്കലം. \"\n",
       "\n",
       "```\n",
       "l = [1, 2, 3, 4, 5, 6, 7, 8, 9, 10]\n",
       "```\n",
       "\n",
       "ഇതാ എന്റെ ഉദാഹരണം."
      ],
      "text/plain": [
       "<IPython.core.display.Markdown object>"
      ]
     },
     "metadata": {},
     "output_type": "display_data"
    }
   ],
   "source": [
    "#ollama result\n",
    "response = ollama.chat(model=MODEL_LLAMA, messages=messages)\n",
    "reply = response['message']['content']\n",
    "display(Markdown(reply))"
   ]
  },
  {
   "cell_type": "code",
   "execution_count": null,
   "id": "be59d909-85f7-4708-bb73-8d303fd84e5d",
   "metadata": {},
   "outputs": [],
   "source": []
  }
 ],
 "metadata": {
  "kernelspec": {
   "display_name": "Python 3 (ipykernel)",
   "language": "python",
   "name": "python3"
  },
  "language_info": {
   "codemirror_mode": {
    "name": "ipython",
    "version": 3
   },
   "file_extension": ".py",
   "mimetype": "text/x-python",
   "name": "python",
   "nbconvert_exporter": "python",
   "pygments_lexer": "ipython3",
   "version": "3.12.7"
  }
 },
 "nbformat": 4,
 "nbformat_minor": 5
}
