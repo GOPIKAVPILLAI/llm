{
 "cells": [
  {
   "cell_type": "code",
   "execution_count": 1,
   "id": "898bb27e-415c-47bd-84e6-68ffee6bb150",
   "metadata": {},
   "outputs": [],
   "source": [
    "import os\n",
    "import requests\n",
    "import json\n",
    "from typing import List\n",
    "from dotenv import load_dotenv\n",
    "from bs4 import BeautifulSoup\n",
    "from IPython.display import Markdown, display, update_display\n",
    "from openai import OpenAI"
   ]
  },
  {
   "cell_type": "code",
   "execution_count": 2,
   "id": "e621027f-330e-4969-b5ad-9b6c234d86e3",
   "metadata": {},
   "outputs": [
    {
     "name": "stdout",
     "output_type": "stream",
     "text": [
      "API key looks good so far\n"
     ]
    }
   ],
   "source": [
    "# Initialize and constants\n",
    "\n",
    "load_dotenv(override=True)\n",
    "api_key = os.getenv('OPENAI_API_KEY')\n",
    "if api_key and api_key.startswith('sk-proj-') and len(api_key)>10:\n",
    "    print(\"API key looks good so far\")\n",
    "else:\n",
    "    print(\"There might be a problem with your API key? Please visit the troubleshooting notebook!\")\n",
    "    \n",
    "MODEL = 'gpt-4o-mini'\n",
    "openai = OpenAI()"
   ]
  },
  {
   "cell_type": "code",
   "execution_count": 3,
   "id": "f9fc0037-b65e-4f19-a323-e4ab7b5a1753",
   "metadata": {},
   "outputs": [],
   "source": [
    "headers = {\n",
    " \"User-Agent\": \"Mozilla/5.0 (Windows NT 10.0; Win64; x64) AppleWebKit/537.36 (KHTML, like Gecko) Chrome/117.0.0.0 Safari/537.36\"\n",
    "}\n",
    "\n",
    "class Website:\n",
    "    \"\"\"\n",
    "    A utility class to represent a Website that we have scraped, now with links\n",
    "    \"\"\"\n",
    "\n",
    "    def __init__(self, url):\n",
    "        self.url = url\n",
    "        response = requests.get(url, headers=headers)\n",
    "        self.body = response.content\n",
    "        soup = BeautifulSoup(self.body, 'html.parser')\n",
    "        self.title = soup.title.string if soup.title else \"No title found\"\n",
    "        if soup.body:\n",
    "            for irrelevant in soup.body([\"script\", \"style\", \"img\", \"input\"]):\n",
    "                irrelevant.decompose()\n",
    "            self.text = soup.body.get_text(separator=\"\\n\", strip=True)\n",
    "        else:\n",
    "            self.text = \"\"\n",
    "        links = [link.get('href') for link in soup.find_all('a')]\n",
    "        self.links = [link for link in links if link]\n",
    "\n",
    "    def get_contents(self):\n",
    "        return f\"Webpage Title:\\n{self.title}\\nWebpage Contents:\\n{self.text}\\n\\n\""
   ]
  },
  {
   "cell_type": "code",
   "execution_count": 4,
   "id": "9823c17e-8979-455d-8ceb-9540ccfea46e",
   "metadata": {},
   "outputs": [],
   "source": [
    "link_system_prompt = \"You are provided with a list of links found on a webpage. \\\n",
    "You are able to decide which of the links would be most relevant to include in a brochure about the company, \\\n",
    "such as links to an About page, or a Company page, or Careers/Jobs pages.\\n\"\n",
    "link_system_prompt += \"You should respond in JSON as in this example:\"\n",
    "link_system_prompt += \"\"\"\n",
    "{\n",
    "    \"links\": [\n",
    "        {\"type\": \"about page\", \"url\": \"https://full.url/goes/here/about\"},\n",
    "        {\"type\": \"careers page\": \"url\": \"https://another.full.url/careers\"}\n",
    "    ]\n",
    "}\n",
    "\"\"\""
   ]
  },
  {
   "cell_type": "code",
   "execution_count": 5,
   "id": "36122fb5-55a2-4102-9a06-5d615939648e",
   "metadata": {},
   "outputs": [],
   "source": [
    "def get_links_user_prompt(website):\n",
    "    user_prompt = f\"Here is the list of links on the website of {website.url} - \"\n",
    "    user_prompt += \"please decide which of these are relevant web links for a brochure about the company, respond with the full https URL in JSON format. \\\n",
    "Do not include Terms of Service, Privacy, email links.\\n\"\n",
    "    user_prompt += \"Links (some might be relative links):\\n\"\n",
    "    user_prompt += \"\\n\".join(website.links)\n",
    "    return user_prompt"
   ]
  },
  {
   "cell_type": "code",
   "execution_count": 6,
   "id": "288be700-776e-49ef-a7b1-e4aabc5e5a5b",
   "metadata": {},
   "outputs": [],
   "source": [
    "def get_links(url):\n",
    "    website = Website(url)\n",
    "    response = openai.chat.completions.create(\n",
    "        model=MODEL,\n",
    "        messages=[\n",
    "            {\"role\": \"system\", \"content\": link_system_prompt},\n",
    "            {\"role\": \"user\", \"content\": get_links_user_prompt(website)}\n",
    "      ],\n",
    "        response_format={\"type\": \"json_object\"}\n",
    "    )\n",
    "    result = response.choices[0].message.content\n",
    "    return json.loads(result)"
   ]
  },
  {
   "cell_type": "code",
   "execution_count": 8,
   "id": "5a792ec4-b32f-4723-8070-1b1dc2cab3eb",
   "metadata": {},
   "outputs": [],
   "source": [
    "def get_all_details(url):\n",
    "    result = \"Landing page:\\n\"\n",
    "    result += Website(url).get_contents()\n",
    "    links = get_links(url)\n",
    "    for link in links[\"links\"]:\n",
    "        result += f\"\\n\\n{link['type']}\\n\"\n",
    "        result += Website(link[\"url\"]).get_contents()\n",
    "    return result"
   ]
  },
  {
   "cell_type": "code",
   "execution_count": 9,
   "id": "ed421d59-ced9-46c1-8d73-9d88e94d3c7d",
   "metadata": {},
   "outputs": [],
   "source": [
    "system_prompt = \"You are an assistant that analyzes the contents of several relevant pages from a company website \\\n",
    "and creates a short brochure about the company for prospective customers, investors and recruits. Respond in markdown.\\\n",
    "Include details of company culture, customers and careers/jobs if you have the information.\""
   ]
  },
  {
   "cell_type": "code",
   "execution_count": 10,
   "id": "225b8994-ee40-4d16-9535-ed1629b354b9",
   "metadata": {},
   "outputs": [],
   "source": [
    "def get_brochure_user_prompt(company_name, url):\n",
    "    user_prompt = f\"You are looking at a company called: {company_name}\\n\"\n",
    "    user_prompt += f\"Here are the contents of its landing page and other relevant pages; use this information to build a short brochure of the company in markdown.\\n\"\n",
    "    user_prompt += get_all_details(url)\n",
    "    user_prompt = user_prompt[:5_000] # Truncate if more than 5,000 characters\n",
    "    return user_prompt"
   ]
  },
  {
   "cell_type": "code",
   "execution_count": 12,
   "id": "3374ed76-8b0c-4b3f-9c45-072d6e25657b",
   "metadata": {},
   "outputs": [],
   "source": [
    "def create_brochure(company_name, url):\n",
    "    response = openai.chat.completions.create(\n",
    "        model=MODEL,\n",
    "        messages=[\n",
    "            {\"role\": \"system\", \"content\": system_prompt},\n",
    "            {\"role\": \"user\", \"content\": get_brochure_user_prompt(company_name, url)}\n",
    "          ],\n",
    "    )\n",
    "    result = response.choices[0].message.content\n",
    "    display(Markdown(result))"
   ]
  },
  {
   "cell_type": "code",
   "execution_count": 13,
   "id": "20d99401-9d46-48d6-84dd-85fec15e9826",
   "metadata": {},
   "outputs": [],
   "source": [
    "def stream_brochure(company_name, url):\n",
    "    stream = openai.chat.completions.create(\n",
    "        model=MODEL,\n",
    "        messages=[\n",
    "            {\"role\": \"system\", \"content\": system_prompt},\n",
    "            {\"role\": \"user\", \"content\": get_brochure_user_prompt(company_name, url)}\n",
    "          ],\n",
    "        stream=True\n",
    "    )\n",
    "    \n",
    "    response = \"\"\n",
    "    display_handle = display(Markdown(\"\"), display_id=True)\n",
    "    for chunk in stream:\n",
    "        response += chunk.choices[0].delta.content or ''\n",
    "        response = response.replace(\"```\",\"\").replace(\"markdown\", \"\")\n",
    "        update_display(Markdown(response), display_id=display_handle.display_id)"
   ]
  },
  {
   "cell_type": "code",
   "execution_count": 14,
   "id": "8710705b-9fa0-4459-b3b2-7abaef30e348",
   "metadata": {},
   "outputs": [
    {
     "data": {
      "text/markdown": [
       "# Hugging Face Brochure\n",
       "\n",
       "## Welcome to Hugging Face\n",
       "\n",
       "**The AI Community Building the Future**  \n",
       "Hugging Face is at the forefront of artificial intelligence and machine learning, operating as a dynamic platform where collaboration flourishes among developers, researchers, and organizations. From state-of-the-art models to expansive datasets, Hugging Face embraces innovation and community engagement to drive the future of AI.\n",
       "\n",
       "---\n",
       "\n",
       "## Our Offerings\n",
       "\n",
       "### Models\n",
       "- Access over **400k+ models** designed to meet various AI needs.\n",
       "- Explore the latest updates, like **microsoft/phi-4** and **deepseek-ai/DeepSeek-V3**.\n",
       "\n",
       "### Datasets\n",
       "- Utilize a collection of **100k+ datasets** across diverse domains tailored for machine learning tasks.\n",
       "\n",
       "### Spaces\n",
       "- Discover innovative applications in our **Spaces** section, showcasing **150k+ applications** running continuously.\n",
       "\n",
       "### Enterprise Solutions\n",
       "- Dedicated support and robust enterprise-grade security for over **50,000 organizations**, including **Meta**, **Amazon**, and **Microsoft**.\n",
       "- Affordable pricing starting at **$20/user/month**.\n",
       "\n",
       "---\n",
       "\n",
       "## Company Culture\n",
       "\n",
       "At Hugging Face, we prioritize an open and collaborative environment. Our culture is built on the principles of inclusivity, innovation, and shared knowledge. By encouraging contributions from all members of our community, we create a vibrant space where ideas thrive and transformative projects come to life.\n",
       "\n",
       "---\n",
       "\n",
       "## Our Customers\n",
       "\n",
       "We are proud to serve a wide array of organizations, including:\n",
       "\n",
       "- **AI at Meta**\n",
       "- **Amazon Web Services**\n",
       "- **Google**\n",
       "- **Intel**\n",
       "- **Grammarly**\n",
       "\n",
       "From non-profits to Fortune 500 companies, our versatile solutions cater to diverse needs within the AI and machine learning spectrum.\n",
       "\n",
       "---\n",
       "\n",
       "## Careers at Hugging Face\n",
       "\n",
       "Join us in shaping the future of AI! We’re on the lookout for passionate individuals eager to contribute to a collaborative and innovative workspace. Our current job openings span various roles, and we value creativity, commitment, and the drive for excellence.\n",
       "\n",
       "Explore career opportunities on our [Jobs Page](https://huggingface.co/jobs).\n",
       "\n",
       "---\n",
       "\n",
       "## Get Involved\n",
       "\n",
       "**Join the Movement!**  \n",
       "Whether you're looking to collaborate on models, access datasets, or engage with our community, Hugging Face is the place to be. \n",
       "\n",
       "- [Sign Up](https://huggingface.co/signup)\n",
       "- **Follow us on social media:** [GitHub](https://github.com/huggingface) | [Twitter](https://twitter.com/huggingface) | [LinkedIn](https://www.linkedin.com/company/huggingface)\n",
       "\n",
       "Let’s build the future of AI together! 🌟\n",
       "\n",
       "--- \n",
       "\n",
       "For more information, visit us at [Hugging Face](https://huggingface.co)."
      ],
      "text/plain": [
       "<IPython.core.display.Markdown object>"
      ]
     },
     "metadata": {},
     "output_type": "display_data"
    }
   ],
   "source": [
    "stream_brochure(\"HuggingFace\", \"https://huggingface.co\")"
   ]
  },
  {
   "cell_type": "code",
   "execution_count": null,
   "id": "48744813-63c8-41e5-a1c8-598a7dad50a1",
   "metadata": {},
   "outputs": [],
   "source": []
  },
  {
   "cell_type": "code",
   "execution_count": null,
   "id": "a4505bab-7244-48b9-b87a-0bbd70fd20f8",
   "metadata": {},
   "outputs": [],
   "source": []
  }
 ],
 "metadata": {
  "kernelspec": {
   "display_name": "Python 3 (ipykernel)",
   "language": "python",
   "name": "python3"
  },
  "language_info": {
   "codemirror_mode": {
    "name": "ipython",
    "version": 3
   },
   "file_extension": ".py",
   "mimetype": "text/x-python",
   "name": "python",
   "nbconvert_exporter": "python",
   "pygments_lexer": "ipython3",
   "version": "3.12.7"
  }
 },
 "nbformat": 4,
 "nbformat_minor": 5
}
