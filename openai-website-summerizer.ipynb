{
 "cells": [
  {
   "cell_type": "code",
   "execution_count": 1,
   "id": "fa671d0d-28dd-4537-ae84-92aa6866716b",
   "metadata": {},
   "outputs": [],
   "source": [
    "import os\n",
    "import requests\n",
    "from bs4 import BeautifulSoup\n",
    "from IPython.display import Markdown, display\n",
    "from openai import OpenAI\n",
    "from dotenv import load_dotenv"
   ]
  },
  {
   "cell_type": "code",
   "execution_count": 2,
   "id": "cea804d0-cd34-4daf-8cc9-dd0c60b00e24",
   "metadata": {},
   "outputs": [
    {
     "name": "stdout",
     "output_type": "stream",
     "text": [
      "API key looks good so far\n"
     ]
    }
   ],
   "source": [
    "# Initialize and constants\n",
    "\n",
    "load_dotenv(override=True)\n",
    "api_key = os.getenv('OPENAI_API_KEY')\n",
    "if api_key and api_key.startswith('sk-proj-') and len(api_key)>10:\n",
    "    print(\"API key looks good so far\")\n",
    "else:\n",
    "    print(\"There might be a problem with your API key? Please visit the troubleshooting notebook!\")\n",
    "    \n",
    "MODEL = 'gpt-4o-mini'\n",
    "openai = OpenAI()"
   ]
  },
  {
   "cell_type": "code",
   "execution_count": 3,
   "id": "f4a816cb-3c0d-46f9-b63e-3e2f4e417bb5",
   "metadata": {},
   "outputs": [],
   "source": [
    "class Website:\n",
    "    \"\"\"\n",
    "    A utility class to represent a Website that we have scraped\n",
    "    \"\"\"\n",
    "    url: str\n",
    "    title: str\n",
    "    text: str\n",
    "\n",
    "    def __init__(self, url):\n",
    "        \"\"\"\n",
    "        Create this Website object from the given url using the BeautifulSoup library\n",
    "        \"\"\"\n",
    "        self.url = url\n",
    "        response = requests.get(url)\n",
    "        soup = BeautifulSoup(response.content, 'html.parser')\n",
    "        self.title = soup.title.string if soup.title else \"No title found\"\n",
    "        for irrelevant in soup.body([\"script\", \"style\", \"img\", \"input\"]):\n",
    "            irrelevant.decompose()\n",
    "        self.text = soup.body.get_text(separator=\"\\n\", strip=True)"
   ]
  },
  {
   "cell_type": "code",
   "execution_count": 4,
   "id": "9681020c-1416-4e1f-88ce-f7382b0a0cfc",
   "metadata": {},
   "outputs": [],
   "source": [
    "system_prompt = \"You are an assistant that analyzes the contents of a website \\\n",
    "and provides a short summary, ignoring text that might be navigation related. \\\n",
    "Respond in markdown.\""
   ]
  },
  {
   "cell_type": "code",
   "execution_count": 5,
   "id": "6c3a165a-6111-4a2d-9155-58dcdc4705ba",
   "metadata": {},
   "outputs": [],
   "source": [
    "# A function that writes a User Prompt that asks for summaries of websites:\n",
    "\n",
    "def user_prompt_for(website):\n",
    "    user_prompt = f\"You are looking at a website titled {website.title}\"\n",
    "    user_prompt += \"The contents of this website is as follows; \\\n",
    "please provide a short summary of this website in markdown. \\\n",
    "If it includes news or announcements, then summarize these too.\\n\\n\"\n",
    "    user_prompt += website.text\n",
    "    return user_prompt"
   ]
  },
  {
   "cell_type": "code",
   "execution_count": 6,
   "id": "28b38d9e-b224-4acb-bcf4-0ae068d4a759",
   "metadata": {},
   "outputs": [],
   "source": [
    "def messages_for(website):\n",
    "    return [\n",
    "        {\"role\": \"system\", \"content\": system_prompt},\n",
    "        {\"role\": \"user\", \"content\": user_prompt_for(website)}\n",
    "    ]"
   ]
  },
  {
   "cell_type": "code",
   "execution_count": 7,
   "id": "bdb34418-ade3-42ef-b3b1-2b7aa49769a8",
   "metadata": {},
   "outputs": [],
   "source": [
    "\n",
    "def summarize(url):\n",
    "    website = Website(url)\n",
    "    messages = messages_for(website)\n",
    "    response = openai.chat.completions.create(model=MODEL, messages=messages)\n",
    "    return response.choices[0].message.content\n",
    "    "
   ]
  },
  {
   "cell_type": "code",
   "execution_count": 8,
   "id": "01a0231d-904c-466a-a04e-e14d171c3a58",
   "metadata": {},
   "outputs": [],
   "source": [
    "\n",
    "def display_summary(url):\n",
    "    summary = summarize(url)\n",
    "    display(Markdown(summary))"
   ]
  },
  {
   "cell_type": "code",
   "execution_count": 10,
   "id": "682067b6-16fb-4409-9bd4-27ca2b53043f",
   "metadata": {},
   "outputs": [
    {
     "data": {
      "text/markdown": [
       "# Summary of ICFOSS Website\n",
       "\n",
       "ICFOSS (International Centre for Free and Open Source Software) is an autonomous organization initiated by the Government of Kerala in 2009. The center aims to promote free and open-source software technologies for widespread use, encouraging collaboration between industry, academia, communities, and government. It focuses on bridging the gap in the FOSS ecosystem through projects, research, training, and capacity building.\n",
       "\n",
       "## Key Areas of Focus:\n",
       "- **Research and Development**: Promoting innovation within the FOSS sector.\n",
       "- **FOSS Training**: Offering workshops and training programs designed to enhance knowledge and skills in open-source technologies.\n",
       "- **Entrepreneurship**: Supporting startups with the ambition to excel in the FOSS landscape.\n",
       "- **Community Engagement**: Collaborating with international FOSS communities to foster global partnerships.\n",
       "\n",
       "## Recent News & Announcements:\n",
       "1. **Call for Final Year MCA/MSc Project Proposals 2024-2025**: An invitation issued for project proposals from students in relevant fields.\n",
       "2. **Upcoming Events**:\n",
       "   - **Third International Conference on FOSS Approaches towards Computational Intelligence and Language Technology**: Scheduled for Jan 22, 2025.\n",
       "   - **Post Conference Workshop on Open Source Tools for Natural Language Processing**: Set for Jan 25, 2025.\n",
       "\n",
       "## Vision and Mission:\n",
       "ICFOSS aims to lead in the research and development of the open-source model, facilitating sustainable development and economic growth in the region.\n",
       "\n",
       "For more detailed information about their initiatives, projects, or events, you can visit their official site at [ICFOSS](https://www.icfoss.in)."
      ],
      "text/plain": [
       "<IPython.core.display.Markdown object>"
      ]
     },
     "metadata": {},
     "output_type": "display_data"
    }
   ],
   "source": [
    "display_summary(\"https://icfoss.in/\")"
   ]
  },
  {
   "cell_type": "code",
   "execution_count": null,
   "id": "50bc71a5-b5b6-4be7-af7f-e98838fb564c",
   "metadata": {},
   "outputs": [],
   "source": []
  }
 ],
 "metadata": {
  "kernelspec": {
   "display_name": "Python 3 (ipykernel)",
   "language": "python",
   "name": "python3"
  },
  "language_info": {
   "codemirror_mode": {
    "name": "ipython",
    "version": 3
   },
   "file_extension": ".py",
   "mimetype": "text/x-python",
   "name": "python",
   "nbconvert_exporter": "python",
   "pygments_lexer": "ipython3",
   "version": "3.12.7"
  }
 },
 "nbformat": 4,
 "nbformat_minor": 5
}
