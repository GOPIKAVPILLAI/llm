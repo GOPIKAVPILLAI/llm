{
 "cells": [
  {
   "cell_type": "code",
   "execution_count": 15,
   "id": "fa671d0d-28dd-4537-ae84-92aa6866716b",
   "metadata": {},
   "outputs": [],
   "source": [
    "\n",
    "import requests\n",
    "from bs4 import BeautifulSoup\n",
    "from IPython.display import Markdown, display\n",
    "import ollama\n"
   ]
  },
  {
   "cell_type": "code",
   "execution_count": 16,
   "id": "f4a816cb-3c0d-46f9-b63e-3e2f4e417bb5",
   "metadata": {},
   "outputs": [],
   "source": [
    "class Website:\n",
    "    \"\"\"\n",
    "    A utility class to represent a Website that we have scraped\n",
    "    \"\"\"\n",
    "    url: str\n",
    "    title: str\n",
    "    text: str\n",
    "\n",
    "    def __init__(self, url):\n",
    "        \"\"\"\n",
    "        Create this Website object from the given url using the BeautifulSoup library\n",
    "        \"\"\"\n",
    "        self.url = url\n",
    "        response = requests.get(url)\n",
    "        soup = BeautifulSoup(response.content, 'html.parser')\n",
    "        self.title = soup.title.string if soup.title else \"No title found\"\n",
    "        for irrelevant in soup.body([\"script\", \"style\", \"img\", \"input\"]):\n",
    "            irrelevant.decompose()\n",
    "        self.text = soup.body.get_text(separator=\"\\n\", strip=True)"
   ]
  },
  {
   "cell_type": "code",
   "execution_count": 17,
   "id": "9681020c-1416-4e1f-88ce-f7382b0a0cfc",
   "metadata": {},
   "outputs": [],
   "source": [
    "system_prompt = \"You are an assistant that analyzes the contents of a website \\\n",
    "and provides a short summary, ignoring text that might be navigation related. \\\n",
    "Respond in markdown.\""
   ]
  },
  {
   "cell_type": "code",
   "execution_count": 18,
   "id": "6c3a165a-6111-4a2d-9155-58dcdc4705ba",
   "metadata": {},
   "outputs": [],
   "source": [
    "# A function that writes a User Prompt that asks for summaries of websites:\n",
    "\n",
    "def user_prompt_for(website):\n",
    "    user_prompt = f\"You are looking at a website titled {website.title}\"\n",
    "    user_prompt += \"The contents of this website is as follows; \\\n",
    "please provide a short summary of this website in markdown. \\\n",
    "If it includes news or announcements, then summarize these too.\\n\\n\"\n",
    "    user_prompt += website.text\n",
    "    return user_prompt"
   ]
  },
  {
   "cell_type": "code",
   "execution_count": 19,
   "id": "28b38d9e-b224-4acb-bcf4-0ae068d4a759",
   "metadata": {},
   "outputs": [],
   "source": [
    "def messages_for(website):\n",
    "    return [\n",
    "        {\"role\": \"system\", \"content\": system_prompt},\n",
    "        {\"role\": \"user\", \"content\": user_prompt_for(website)}\n",
    "    ]"
   ]
  },
  {
   "cell_type": "code",
   "execution_count": 22,
   "id": "bdb34418-ade3-42ef-b3b1-2b7aa49769a8",
   "metadata": {},
   "outputs": [],
   "source": [
    "MODEL=\"llama3.2\"\n",
    "def summarize(url):\n",
    "    website = Website(url)\n",
    "    messages = messages_for(website)\n",
    "    response = ollama.chat(model=MODEL, messages=messages)\n",
    "    return response['message']['content']"
   ]
  },
  {
   "cell_type": "code",
   "execution_count": 23,
   "id": "01a0231d-904c-466a-a04e-e14d171c3a58",
   "metadata": {},
   "outputs": [],
   "source": [
    "\n",
    "def display_summary(url):\n",
    "    summary = summarize(url)\n",
    "    display(Markdown(summary))"
   ]
  },
  {
   "cell_type": "code",
   "execution_count": 25,
   "id": "682067b6-16fb-4409-9bd4-27ca2b53043f",
   "metadata": {},
   "outputs": [
    {
     "data": {
      "text/markdown": [
       "# ICFOSS Website Summary\n",
       "\n",
       "### Mission and Vision\n",
       "\n",
       "ICFOSS aims to promote research and development in Free and Open Source Software, with a vision of becoming a leading research organization and contributing to sustainable development.\n",
       "\n",
       "### Objectives\n",
       "\n",
       "1. **Identify and quantify the benefits** of FOSS for India, including patents, copyright, digital content, and scientific publishing.\n",
       "2. **Develop an action plan** to make India a global leader in the open source community.\n",
       "3. **Leverage the open source model** to bridge the digital divide.\n",
       "4. **Create a road-map** for open source software development for India's software export industry.\n",
       "\n",
       "### Projects\n",
       "\n",
       "* Research and Development in FOSS\n",
       "* Entrepreneurship: Supporting Passionate Startups to Excel\n",
       "* Project Runway: Promoting Free Software initiatives\n",
       "* DRONE CoE: Drone Center of Excellence\n",
       "* Rapid Prototyping and Hardware Lab\n",
       "* ICFOSS Solutions' Centers of Excellence (CoE)\n",
       "\n",
       "### Events\n",
       "\n",
       "* Latest News: Updates on ICFOSS events, conferences, and workshops.\n",
       "* Third International Conference on FOSS Approaches towards Computational Intelligence and Language Technology (FOSS-CIL T25)\n",
       "* One day Post Conference Hybrid Workshop on \"Open Source Tools for Natural Language Processing\"\n",
       "\n",
       "### Publications\n",
       "\n",
       "* Various reports, articles, and publications on Free and Open Source Software.\n",
       "\n",
       "### Newsletter\n",
       "\n",
       "Subscribe to ICFOSS' newsletter to receive the latest News and Offers."
      ],
      "text/plain": [
       "<IPython.core.display.Markdown object>"
      ]
     },
     "metadata": {},
     "output_type": "display_data"
    }
   ],
   "source": [
    "display_summary(\"https://icfoss.in/\")"
   ]
  },
  {
   "cell_type": "code",
   "execution_count": null,
   "id": "50bc71a5-b5b6-4be7-af7f-e98838fb564c",
   "metadata": {},
   "outputs": [],
   "source": []
  }
 ],
 "metadata": {
  "kernelspec": {
   "display_name": "Python 3 (ipykernel)",
   "language": "python",
   "name": "python3"
  },
  "language_info": {
   "codemirror_mode": {
    "name": "ipython",
    "version": 3
   },
   "file_extension": ".py",
   "mimetype": "text/x-python",
   "name": "python",
   "nbconvert_exporter": "python",
   "pygments_lexer": "ipython3",
   "version": "3.12.7"
  }
 },
 "nbformat": 4,
 "nbformat_minor": 5
}
